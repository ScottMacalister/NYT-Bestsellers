{
 "cells": [
  {
   "cell_type": "code",
   "execution_count": 1,
   "id": "fd27f0bd-ecd6-4525-a13b-82f63ef35f0b",
   "metadata": {},
   "outputs": [],
   "source": [
    "# Import required libraries\n",
    "\n",
    "import pandas as pd\n",
    "import requests\n",
    "import time\n",
    "from datetime import datetime, timedelta"
   ]
  },
  {
   "cell_type": "code",
   "execution_count": 93,
   "id": "c2c4ce1d-f3d0-4aa9-b240-6bd8822abdd0",
   "metadata": {},
   "outputs": [],
   "source": [
    "# General function to call NYT API\n",
    "\n",
    "def fetch_books(date):\n",
    "    list_name = \"combined-print-and-e-book-fiction\"\n",
    "    url = f\"https://api.nytimes.com/svc/books/v3/lists/{date}/{list_name}.json\"\n",
    "\n",
    "    params = {\n",
    "        'api-key': 'SECRET'\n",
    "    }\n",
    "\n",
    "    try:\n",
    "        response = requests.get(url, params=params)\n",
    "        response.raise_for_status()\n",
    "\n",
    "        data = response.json()\n",
    "\n",
    "        if 'results' in data and 'books' in data['results']:\n",
    "            return data['results']['books']\n",
    "        else:\n",
    "            print(f\"No books data found for date: {date}\")\n",
    "            return None\n",
    "\n",
    "    except requests.exceptions.RequestException as e:\n",
    "        print(f\"Error fetching data for date {date}: {e}\")\n",
    "        return None"
   ]
  },
  {
   "cell_type": "code",
   "execution_count": 87,
   "id": "7ccbe920-fec3-40d7-861b-85c2527c5e3a",
   "metadata": {},
   "outputs": [],
   "source": [
    "# Specific function to collect Rank, Title, and Author\n",
    "\n",
    "def collect_book_data(start_date, end_date):\n",
    "    all_books_df = pd.DataFrame()\n",
    "\n",
    "    current_date = start_date\n",
    "\n",
    "    while current_date <= end_date:\n",
    "        date_str = current_date.strftime(\"%Y-%m-%d\")\n",
    "        print(f\"Fetching data for date: {date_str}...\")\n",
    "\n",
    "        backoff_time = 16\n",
    "        while True:\n",
    "            books_data = fetch_books(date_str)\n",
    "            \n",
    "            if books_data is not None:\n",
    "                break\n",
    "            \n",
    "            print(f\"Waiting for {backoff_time} seconds before retrying...\")\n",
    "            time.sleep(backoff_time)\n",
    "            backoff_time += 10\n",
    "\n",
    "        if books_data:\n",
    "            book_data = []\n",
    "            for book in books_data:\n",
    "                book_info = {\n",
    "                    'Rank': book.get('rank'),\n",
    "                    'Title': book.get('title'),\n",
    "                    'Author': book.get('author'),\n",
    "                    'List Date': date_str\n",
    "                }\n",
    "                book_data.append(book_info)\n",
    "\n",
    "            current_df = pd.DataFrame(book_data)\n",
    "\n",
    "            all_books_df = pd.concat([all_books_df, current_df], ignore_index=True)\n",
    "\n",
    "        time.sleep(3)\n",
    "        print(\"Processing next date...\")\n",
    "\n",
    "        current_date += timedelta(days=7)\n",
    "\n",
    "    print(all_books_df.head(5))\n",
    "    print(f\"Total books fetched: {len(all_books_df)}\")\n",
    "\n",
    "    return all_books_df"
   ]
  },
  {
   "cell_type": "code",
   "execution_count": 95,
   "id": "8b4c5b16-99c3-4bb1-a19a-632b172531df",
   "metadata": {},
   "outputs": [
    {
     "name": "stdout",
     "output_type": "stream",
     "text": [
      "Fetching data for date: 2013-01-01...\n",
      "Processing next date...\n",
      "Fetching data for date: 2013-01-08...\n",
      "Processing next date...\n",
      "Fetching data for date: 2013-01-15...\n",
      "Processing next date...\n",
      "Fetching data for date: 2013-01-22...\n",
      "Processing next date...\n",
      "Fetching data for date: 2013-01-29...\n",
      "Processing next date...\n",
      "Fetching data for date: 2013-02-05...\n",
      "Error fetching data for date 2013-02-05: 429 Client Error: Too Many Requests for url: https://api.nytimes.com/svc/books/v3/lists/2013-02-05/combined-print-and-e-book-fiction.json?api-key=1WGbykaIHbCAIavKfqQJ8z0cXttoQ2pZ\n",
      "Waiting for 16 seconds before retrying...\n",
      "Error fetching data for date 2013-02-05: 429 Client Error: Too Many Requests for url: https://api.nytimes.com/svc/books/v3/lists/2013-02-05/combined-print-and-e-book-fiction.json?api-key=1WGbykaIHbCAIavKfqQJ8z0cXttoQ2pZ\n",
      "Waiting for 26 seconds before retrying...\n",
      "Processing next date...\n",
      "Fetching data for date: 2013-02-12...\n",
      "Processing next date...\n",
      "Fetching data for date: 2013-02-19...\n",
      "Processing next date...\n",
      "Fetching data for date: 2013-02-26...\n",
      "Processing next date...\n",
      "Fetching data for date: 2013-03-05...\n",
      "Processing next date...\n",
      "Fetching data for date: 2013-03-12...\n",
      "Error fetching data for date 2013-03-12: 429 Client Error: Too Many Requests for url: https://api.nytimes.com/svc/books/v3/lists/2013-03-12/combined-print-and-e-book-fiction.json?api-key=1WGbykaIHbCAIavKfqQJ8z0cXttoQ2pZ\n",
      "Waiting for 16 seconds before retrying...\n",
      "Processing next date...\n",
      "Fetching data for date: 2013-03-19...\n",
      "Processing next date...\n",
      "Fetching data for date: 2013-03-26...\n",
      "Processing next date...\n",
      "Fetching data for date: 2013-04-02...\n",
      "Processing next date...\n",
      "Fetching data for date: 2013-04-09...\n",
      "Processing next date...\n",
      "Fetching data for date: 2013-04-16...\n",
      "Error fetching data for date 2013-04-16: 429 Client Error: Too Many Requests for url: https://api.nytimes.com/svc/books/v3/lists/2013-04-16/combined-print-and-e-book-fiction.json?api-key=1WGbykaIHbCAIavKfqQJ8z0cXttoQ2pZ\n",
      "Waiting for 16 seconds before retrying...\n",
      "Error fetching data for date 2013-04-16: 429 Client Error: Too Many Requests for url: https://api.nytimes.com/svc/books/v3/lists/2013-04-16/combined-print-and-e-book-fiction.json?api-key=1WGbykaIHbCAIavKfqQJ8z0cXttoQ2pZ\n",
      "Waiting for 26 seconds before retrying...\n",
      "Processing next date...\n",
      "Fetching data for date: 2013-04-23...\n",
      "Processing next date...\n",
      "Fetching data for date: 2013-04-30...\n",
      "Processing next date...\n",
      "Fetching data for date: 2013-05-07...\n",
      "Processing next date...\n",
      "Fetching data for date: 2013-05-14...\n",
      "Processing next date...\n",
      "Fetching data for date: 2013-05-21...\n",
      "Error fetching data for date 2013-05-21: 429 Client Error: Too Many Requests for url: https://api.nytimes.com/svc/books/v3/lists/2013-05-21/combined-print-and-e-book-fiction.json?api-key=1WGbykaIHbCAIavKfqQJ8z0cXttoQ2pZ\n",
      "Waiting for 16 seconds before retrying...\n",
      "Error fetching data for date 2013-05-21: 429 Client Error: Too Many Requests for url: https://api.nytimes.com/svc/books/v3/lists/2013-05-21/combined-print-and-e-book-fiction.json?api-key=1WGbykaIHbCAIavKfqQJ8z0cXttoQ2pZ\n",
      "Waiting for 26 seconds before retrying...\n",
      "Processing next date...\n",
      "Fetching data for date: 2013-05-28...\n",
      "Processing next date...\n",
      "Fetching data for date: 2013-06-04...\n",
      "Processing next date...\n",
      "Fetching data for date: 2013-06-11...\n",
      "Processing next date...\n",
      "Fetching data for date: 2013-06-18...\n",
      "Processing next date...\n",
      "Fetching data for date: 2013-06-25...\n",
      "Error fetching data for date 2013-06-25: 429 Client Error: Too Many Requests for url: https://api.nytimes.com/svc/books/v3/lists/2013-06-25/combined-print-and-e-book-fiction.json?api-key=1WGbykaIHbCAIavKfqQJ8z0cXttoQ2pZ\n",
      "Waiting for 16 seconds before retrying...\n",
      "Error fetching data for date 2013-06-25: 429 Client Error: Too Many Requests for url: https://api.nytimes.com/svc/books/v3/lists/2013-06-25/combined-print-and-e-book-fiction.json?api-key=1WGbykaIHbCAIavKfqQJ8z0cXttoQ2pZ\n",
      "Waiting for 26 seconds before retrying...\n",
      "Processing next date...\n",
      "Fetching data for date: 2013-07-02...\n",
      "Processing next date...\n",
      "Fetching data for date: 2013-07-09...\n",
      "Processing next date...\n",
      "Fetching data for date: 2013-07-16...\n",
      "Processing next date...\n",
      "Fetching data for date: 2013-07-23...\n",
      "Processing next date...\n",
      "Fetching data for date: 2013-07-30...\n",
      "Error fetching data for date 2013-07-30: 429 Client Error: Too Many Requests for url: https://api.nytimes.com/svc/books/v3/lists/2013-07-30/combined-print-and-e-book-fiction.json?api-key=1WGbykaIHbCAIavKfqQJ8z0cXttoQ2pZ\n",
      "Waiting for 16 seconds before retrying...\n",
      "Error fetching data for date 2013-07-30: 429 Client Error: Too Many Requests for url: https://api.nytimes.com/svc/books/v3/lists/2013-07-30/combined-print-and-e-book-fiction.json?api-key=1WGbykaIHbCAIavKfqQJ8z0cXttoQ2pZ\n",
      "Waiting for 26 seconds before retrying...\n",
      "Processing next date...\n",
      "Fetching data for date: 2013-08-06...\n",
      "Processing next date...\n",
      "Fetching data for date: 2013-08-13...\n",
      "Processing next date...\n",
      "Fetching data for date: 2013-08-20...\n",
      "Processing next date...\n",
      "Fetching data for date: 2013-08-27...\n",
      "Processing next date...\n",
      "Fetching data for date: 2013-09-03...\n",
      "Error fetching data for date 2013-09-03: 429 Client Error: Too Many Requests for url: https://api.nytimes.com/svc/books/v3/lists/2013-09-03/combined-print-and-e-book-fiction.json?api-key=1WGbykaIHbCAIavKfqQJ8z0cXttoQ2pZ\n",
      "Waiting for 16 seconds before retrying...\n",
      "Error fetching data for date 2013-09-03: 429 Client Error: Too Many Requests for url: https://api.nytimes.com/svc/books/v3/lists/2013-09-03/combined-print-and-e-book-fiction.json?api-key=1WGbykaIHbCAIavKfqQJ8z0cXttoQ2pZ\n",
      "Waiting for 26 seconds before retrying...\n",
      "Processing next date...\n",
      "Fetching data for date: 2013-09-10...\n",
      "Processing next date...\n",
      "Fetching data for date: 2013-09-17...\n",
      "Processing next date...\n",
      "Fetching data for date: 2013-09-24...\n",
      "Processing next date...\n",
      "Fetching data for date: 2013-10-01...\n",
      "Processing next date...\n",
      "Fetching data for date: 2013-10-08...\n",
      "Error fetching data for date 2013-10-08: 429 Client Error: Too Many Requests for url: https://api.nytimes.com/svc/books/v3/lists/2013-10-08/combined-print-and-e-book-fiction.json?api-key=1WGbykaIHbCAIavKfqQJ8z0cXttoQ2pZ\n",
      "Waiting for 16 seconds before retrying...\n",
      "Error fetching data for date 2013-10-08: 429 Client Error: Too Many Requests for url: https://api.nytimes.com/svc/books/v3/lists/2013-10-08/combined-print-and-e-book-fiction.json?api-key=1WGbykaIHbCAIavKfqQJ8z0cXttoQ2pZ\n",
      "Waiting for 26 seconds before retrying...\n",
      "Processing next date...\n",
      "Fetching data for date: 2013-10-15...\n",
      "Processing next date...\n",
      "Fetching data for date: 2013-10-22...\n",
      "Processing next date...\n",
      "Fetching data for date: 2013-10-29...\n",
      "Processing next date...\n",
      "Fetching data for date: 2013-11-05...\n",
      "Processing next date...\n",
      "Fetching data for date: 2013-11-12...\n",
      "Error fetching data for date 2013-11-12: 429 Client Error: Too Many Requests for url: https://api.nytimes.com/svc/books/v3/lists/2013-11-12/combined-print-and-e-book-fiction.json?api-key=1WGbykaIHbCAIavKfqQJ8z0cXttoQ2pZ\n",
      "Waiting for 16 seconds before retrying...\n",
      "Processing next date...\n",
      "Fetching data for date: 2013-11-19...\n",
      "Processing next date...\n",
      "Fetching data for date: 2013-11-26...\n",
      "Processing next date...\n",
      "Fetching data for date: 2013-12-03...\n",
      "Processing next date...\n",
      "Fetching data for date: 2013-12-10...\n",
      "Processing next date...\n",
      "Fetching data for date: 2013-12-17...\n",
      "Error fetching data for date 2013-12-17: 429 Client Error: Too Many Requests for url: https://api.nytimes.com/svc/books/v3/lists/2013-12-17/combined-print-and-e-book-fiction.json?api-key=1WGbykaIHbCAIavKfqQJ8z0cXttoQ2pZ\n",
      "Waiting for 16 seconds before retrying...\n",
      "Error fetching data for date 2013-12-17: 429 Client Error: Too Many Requests for url: https://api.nytimes.com/svc/books/v3/lists/2013-12-17/combined-print-and-e-book-fiction.json?api-key=1WGbykaIHbCAIavKfqQJ8z0cXttoQ2pZ\n",
      "Waiting for 26 seconds before retrying...\n",
      "Processing next date...\n",
      "Fetching data for date: 2013-12-24...\n",
      "Processing next date...\n",
      "Fetching data for date: 2013-12-31...\n",
      "Processing next date...\n",
      "   Rank                 Title           Author   List Date\n",
      "0     1             GONE GIRL    Gillian Flynn  2013-01-01\n",
      "1     2         THE RACKETEER     John Grisham  2013-01-01\n",
      "2     3  FIFTY SHADES OF GREY        E L James  2013-01-01\n",
      "3     4            SAFE HAVEN  Nicholas Sparks  2013-01-01\n",
      "4     5         THE FORGOTTEN   David Baldacci  2013-01-01\n",
      "Total books fetched: 1060\n"
     ]
    }
   ],
   "source": [
    "# Input 2013 into function\n",
    "\n",
    "start_date = datetime(2013, 1, 1)\n",
    "end_date = datetime(2013, 12, 31)\n",
    "\n",
    "books_df = collect_book_data(start_date, end_date)"
   ]
  },
  {
   "cell_type": "code",
   "execution_count": 97,
   "id": "4d26c3de-390a-4ac1-a798-d0886bc30c4c",
   "metadata": {},
   "outputs": [],
   "source": [
    "# Save in seperate variable\n",
    "\n",
    "books_2013 = books_df"
   ]
  },
  {
   "cell_type": "code",
   "execution_count": 99,
   "id": "2903a607-b0e0-4175-bb36-9ead23620d2b",
   "metadata": {},
   "outputs": [],
   "source": [
    "# BACKUP!!!\n",
    "\n",
    "books_2013_backup = books_2013"
   ]
  },
  {
   "cell_type": "code",
   "execution_count": 212,
   "id": "3545effa-d1ec-4cb5-b33e-208f45c5a467",
   "metadata": {},
   "outputs": [],
   "source": [
    "books_2013_backup_2 = books_2013_backup"
   ]
  },
  {
   "cell_type": "code",
   "execution_count": 11,
   "id": "5cebb9b9-b383-4911-9b06-e390d65dc371",
   "metadata": {},
   "outputs": [],
   "source": [
    "# Function to clean Author data\n",
    "\n",
    "def extract_author(author):\n",
    "    return author.split(' and ')[0].split(' with ')[0]"
   ]
  },
  {
   "cell_type": "code",
   "execution_count": 133,
   "id": "3c9ea90e-97b8-450e-b167-34ae93cacd6c",
   "metadata": {},
   "outputs": [
    {
     "name": "stdout",
     "output_type": "stream",
     "text": [
      "Max retries reached for Joel_C_Rosenberg. Skipping.Error fetching data for Joel_C_Rosenberg: Socket operation on non-socket\n",
      "Max retries reached for JC_Reed. Skipping.\n",
      "Request exception for Katie_Ashley: 404 Client Error: Not Found for url: https://en.wikipedia.org/api/rest_v1/page/summary/Katie_Ashley, retrying (1/5)...\n",
      "Max retries reached for C_J_Box. Skipping.\n",
      "Max retries reached for Jasinda_Wilder. Skipping.\n",
      "Request exception for H_M_Ward: 404 Client Error: Not Found for url: https://en.wikipedia.org/api/rest_v1/page/summary/H_M_Ward, retrying (1/5)...\n",
      "Max retries reached for JA_Redmerski. Skipping.\n",
      "Max retries reached for Ron_Carr. Skipping.\n",
      "Request exception for J_Kenner: 404 Client Error: Not Found for url: https://en.wikipedia.org/api/rest_v1/page/summary/J_Kenner, retrying (1/5)...\n",
      "Request exception for Laurann_Dohner: 404 Client Error: Not Found for url: https://en.wikipedia.org/api/rest_v1/page/summary/Laurann_Dohner, retrying (1/5)...\n",
      "Request exception for Samantha_Young: 404 Client Error: Not Found for url: https://en.wikipedia.org/api/rest_v1/page/summary/Samantha_Young, retrying (1/5)...\n",
      "Request exception for Raine_Miller: 404 Client Error: Not Found for url: https://en.wikipedia.org/api/rest_v1/page/summary/Raine_Miller, retrying (1/5)...\n",
      "Max retries reached for Jana_DeLeon. Skipping.\n",
      "Request exception for M_Leighton: 404 Client Error: Not Found for url: https://en.wikipedia.org/api/rest_v1/page/summary/M_Leighton, retrying (1/5)...\n",
      "Request exception for HM_Ward: 404 Client Error: Not Found for url: https://en.wikipedia.org/api/rest_v1/page/summary/HM_Ward, retrying (1/5)...\n",
      "Request exception for M_L_Stedman: 404 Client Error: Not Found for url: https://en.wikipedia.org/api/rest_v1/page/summary/M_L_Stedman, retrying (1/5)...\n",
      "Request exception for Molly_McAdams: 404 Client Error: Not Found for url: https://en.wikipedia.org/api/rest_v1/page/summary/Molly_McAdams, retrying (5/5)...\n",
      "Request exception for Georgia_Cates: 404 Client Error: Not Found for url: https://en.wikipedia.org/api/rest_v1/page/summary/Georgia_Cates, retrying (5/5)...\n",
      "Request exception for Clive_Cussler_and_Graham_Brown: 404 Client Error: Not Found for url: https://en.wikipedia.org/api/rest_v1/page/summary/Clive_Cussler_and_Graham_Brown, retrying (5/5)...\n",
      "Request exception for SL_Jennings: 404 Client Error: Not Found for url: https://en.wikipedia.org/api/rest_v1/page/summary/SL_Jennings, retrying (3/5)...\n",
      "Request exception for Janet_Evanovich_and_Lee_Goldberg: 404 Client Error: Not Found for url: https://en.wikipedia.org/api/rest_v1/page/summary/Janet_Evanovich_and_Lee_Goldberg, retrying (5/5)...\n"
     ]
    }
   ],
   "source": [
    "# Clean Author data\n",
    "\n",
    "books_2013['Author'] = books_2013['Author'].apply(extract_author)"
   ]
  },
  {
   "cell_type": "code",
   "execution_count": 138,
   "id": "a0c0e08f-1e15-4c69-b819-1bb39b4f1b88",
   "metadata": {},
   "outputs": [
    {
     "name": "stdout",
     "output_type": "stream",
     "text": [
      "Request exception for Tara_Sue_Me: 404 Client Error: Not Found for url: https://en.wikipedia.org/api/rest_v1/page/summary/Tara_Sue_Me, retrying (1/5)...Error fetching data for Tara_Sue_Me: Socket operation on non-socket\n",
      "Request exception for Darcie_Chan: 404 Client Error: Not Found for url: https://en.wikipedia.org/api/rest_v1/page/summary/Darcie_Chan, retrying (5/5)...\n",
      "Max retries reached for Irene_Zatko. Skipping.\n",
      "Request exception for S_C_Stephens: 404 Client Error: Not Found for url: https://en.wikipedia.org/api/rest_v1/page/summary/S_C_Stephens, retrying (4/5)...\n",
      "Request exception for J_Lynn: 404 Client Error: Not Found for url: https://en.wikipedia.org/api/rest_v1/page/summary/J_Lynn, retrying (4/5)...\n",
      "Request exception for Joel_C_Rosenberg: 404 Client Error: Not Found for url: https://en.wikipedia.org/api/rest_v1/page/summary/Joel_C_Rosenberg, retrying (4/5)...\n",
      "Request exception for Jasinda_Wilder: 404 Client Error: Not Found for url: https://en.wikipedia.org/api/rest_v1/page/summary/Jasinda_Wilder, retrying (4/5)...\n",
      "Request exception for J_A_Redmerski: 404 Client Error: Not Found for url: https://en.wikipedia.org/api/rest_v1/page/summary/J_A_Redmerski, retrying (1/5)...\n",
      "Request exception for Catherine_Coulter_and_JT_Ellison: 404 Client Error: Not Found for url: https://en.wikipedia.org/api/rest_v1/page/summary/Catherine_Coulter_and_JT_Ellison, retrying (5/5)...\n",
      "Request exception for C_J_Box: 404 Client Error: Not Found for url: https://en.wikipedia.org/api/rest_v1/page/summary/C_J_Box, retrying (4/5)...\n",
      "Request exception for Sandi_Lynn: 404 Client Error: Not Found for url: https://en.wikipedia.org/api/rest_v1/page/summary/Sandi_Lynn, retrying (3/5)...\n",
      "Request exception for Ron_Carr: 404 Client Error: Not Found for url: https://en.wikipedia.org/api/rest_v1/page/summary/Ron_Carr, retrying (4/5)...\n",
      "Request exception for JC_Reed: 404 Client Error: Not Found for url: https://en.wikipedia.org/api/rest_v1/page/summary/JC_Reed, retrying (4/5)...\n",
      "Request exception for Jen_McLaughlin: 404 Client Error: Not Found for url: https://en.wikipedia.org/api/rest_v1/page/summary/Jen_McLaughlin, retrying (5/5)...\n",
      "Request exception for Sandi_Lynn: 404 Client Error: Not Found for url: https://en.wikipedia.org/api/rest_v1/page/summary/Sandi_Lynn, retrying (1/5)...\n",
      "Request exception for Kelly_Elliott: 404 Client Error: Not Found for url: https://en.wikipedia.org/api/rest_v1/page/summary/Kelly_Elliott, retrying (1/5)...\n",
      "Request exception for JA_Redmerski: 404 Client Error: Not Found for url: https://en.wikipedia.org/api/rest_v1/page/summary/JA_Redmerski, retrying (4/5)...\n",
      "Request exception for James_Patterson_and_Michael_Ledwidge: 404 Client Error: Not Found for url: https://en.wikipedia.org/api/rest_v1/page/summary/James_Patterson_and_Michael_Ledwidge, retrying (5/5)...\n",
      "Request exception for JD_Robb_and_others: 404 Client Error: Not Found for url: https://en.wikipedia.org/api/rest_v1/page/summary/JD_Robb_and_others, retrying (5/5)...\n",
      "Request exception for Jana_DeLeon: 404 Client Error: Not Found for url: https://en.wikipedia.org/api/rest_v1/page/summary/Jana_DeLeon, retrying (4/5)...\n",
      "Request exception for Tara_Sue_Me: 404 Client Error: Not Found for url: https://en.wikipedia.org/api/rest_v1/page/summary/Tara_Sue_Me, retrying (5/5)...\n",
      "Request exception for Maya_Cross: 404 Client Error: Not Found for url: https://en.wikipedia.org/api/rest_v1/page/summary/Maya_Cross, retrying (2/5)...\n",
      "Request exception for Clive_Cussler_with_Jack_Du_Brul: 404 Client Error: Not Found for url: https://en.wikipedia.org/api/rest_v1/page/summary/Clive_Cussler_with_Jack_Du_Brul, retrying (5/5)...\n",
      "Request exception for J_A_Redmerski: 404 Client Error: Not Found for url: https://en.wikipedia.org/api/rest_v1/page/summary/J_A_Redmerski, retrying (5/5)...\n",
      "Request exception for Douglas_Preston_and_Lincoln_Child: 404 Client Error: Not Found for url: https://en.wikipedia.org/api/rest_v1/page/summary/Douglas_Preston_and_Lincoln_Child, retrying (5/5)...\n",
      "Request exception for Michael_Brandman: 404 Client Error: Not Found for url: https://en.wikipedia.org/api/rest_v1/page/summary/Michael_Brandman, retrying (2/5)...\n",
      "Request exception for Melody_Anne: 404 Client Error: Not Found for url: https://en.wikipedia.org/api/rest_v1/page/summary/Melody_Anne, retrying (2/5)...\n",
      "Request exception for J_D_Robb: 404 Client Error: Not Found for url: https://en.wikipedia.org/api/rest_v1/page/summary/J_D_Robb, retrying (5/5)...\n",
      "Request exception for Darcie_Chan: 404 Client Error: Not Found for url: https://en.wikipedia.org/api/rest_v1/page/summary/Darcie_Chan, retrying (2/5)...\n",
      "Request exception for Jen_McLaughlin: 404 Client Error: Not Found for url: https://en.wikipedia.org/api/rest_v1/page/summary/Jen_McLaughlin, retrying (2/5)...\n",
      "Max retries reached for Darcie_Chan. Skipping.\n",
      "Request exception for JD_Robb: 404 Client Error: Not Found for url: https://en.wikipedia.org/api/rest_v1/page/summary/JD_Robb, retrying (2/5)...\n",
      "Request exception for Kelly_Elliott: 404 Client Error: Not Found for url: https://en.wikipedia.org/api/rest_v1/page/summary/Kelly_Elliott, retrying (1/5)...\n",
      "Request exception for J_Lynn: 404 Client Error: Not Found for url: https://en.wikipedia.org/api/rest_v1/page/summary/J_Lynn, retrying (5/5)...\n",
      "Request exception for S_C_Stephens: 404 Client Error: Not Found for url: https://en.wikipedia.org/api/rest_v1/page/summary/S_C_Stephens, retrying (5/5)...\n",
      "Max retries reached for Catherine_Coulter_and_JT_Ellison. Skipping.\n",
      "Max retries reached for Jen_McLaughlin. Skipping.\n",
      "Request exception for Joel_C_Rosenberg: 404 Client Error: Not Found for url: https://en.wikipedia.org/api/rest_v1/page/summary/Joel_C_Rosenberg, retrying (5/5)...\n",
      "Request exception for Jasinda_Wilder: 404 Client Error: Not Found for url: https://en.wikipedia.org/api/rest_v1/page/summary/Jasinda_Wilder, retrying (5/5)...\n",
      "Request exception for J_A_Redmerski: 404 Client Error: Not Found for url: https://en.wikipedia.org/api/rest_v1/page/summary/J_A_Redmerski, retrying (2/5)...\n",
      "Request exception for C_J_Box: 404 Client Error: Not Found for url: https://en.wikipedia.org/api/rest_v1/page/summary/C_J_Box, retrying (5/5)...\n",
      "Request exception for JC_Reed: 404 Client Error: Not Found for url: https://en.wikipedia.org/api/rest_v1/page/summary/JC_Reed, retrying (5/5)...\n",
      "Request exception for Sandi_Lynn: 404 Client Error: Not Found for url: https://en.wikipedia.org/api/rest_v1/page/summary/Sandi_Lynn, retrying (4/5)...\n",
      "Request exception for Ron_Carr: 404 Client Error: Not Found for url: https://en.wikipedia.org/api/rest_v1/page/summary/Ron_Carr, retrying (5/5)...\n",
      "Request exception for Sandi_Lynn: 404 Client Error: Not Found for url: https://en.wikipedia.org/api/rest_v1/page/summary/Sandi_Lynn, retrying (2/5)...\n",
      "Request exception for Kelly_Elliott: 404 Client Error: Not Found for url: https://en.wikipedia.org/api/rest_v1/page/summary/Kelly_Elliott, retrying (2/5)...\n",
      "Max retries reached for James_Patterson_and_Michael_Ledwidge. Skipping.\n",
      "Request exception for JA_Redmerski: 404 Client Error: Not Found for url: https://en.wikipedia.org/api/rest_v1/page/summary/JA_Redmerski, retrying (5/5)...\n",
      "Max retries reached for JD_Robb_and_others. Skipping.\n",
      "Request exception for Jana_DeLeon: 404 Client Error: Not Found for url: https://en.wikipedia.org/api/rest_v1/page/summary/Jana_DeLeon, retrying (5/5)...\n",
      "Max retries reached for Tara_Sue_Me. Skipping.\n",
      "Max retries reached for Clive_Cussler_with_Jack_Du_Brul. Skipping.\n",
      "Request exception for Maya_Cross: 404 Client Error: Not Found for url: https://en.wikipedia.org/api/rest_v1/page/summary/Maya_Cross, retrying (3/5)...\n",
      "Max retries reached for J_A_Redmerski. Skipping.\n",
      "Max retries reached for Douglas_Preston_and_Lincoln_Child. Skipping.\n",
      "Request exception for Michael_Brandman: 404 Client Error: Not Found for url: https://en.wikipedia.org/api/rest_v1/page/summary/Michael_Brandman, retrying (3/5)...\n",
      "Max retries reached for J_D_Robb. Skipping.\n",
      "Request exception for Melody_Anne: 404 Client Error: Not Found for url: https://en.wikipedia.org/api/rest_v1/page/summary/Melody_Anne, retrying (3/5)...\n",
      "Request exception for Rachel_Van_Dyken: 404 Client Error: Not Found for url: https://en.wikipedia.org/api/rest_v1/page/summary/Rachel_Van_Dyken, retrying (1/5)...\n",
      "Request exception for Darcie_Chan: 404 Client Error: Not Found for url: https://en.wikipedia.org/api/rest_v1/page/summary/Darcie_Chan, retrying (3/5)...\n",
      "Request exception for Jen_McLaughlin: 404 Client Error: Not Found for url: https://en.wikipedia.org/api/rest_v1/page/summary/Jen_McLaughlin, retrying (3/5)...\n",
      "Max retries reached for J_Lynn. Skipping.\n",
      "Max retries reached for S_C_Stephens. Skipping.\n",
      "Request exception for JD_Robb: 404 Client Error: Not Found for url: https://en.wikipedia.org/api/rest_v1/page/summary/JD_Robb, retrying (3/5)...\n",
      "Request exception for Kelly_Elliott: 404 Client Error: Not Found for url: https://en.wikipedia.org/api/rest_v1/page/summary/Kelly_Elliott, retrying (2/5)...\n",
      "Max retries reached for Joel_C_Rosenberg. Skipping.\n",
      "Max retries reached for Jasinda_Wilder. Skipping.\n",
      "Request exception for Katie_Ashley: 404 Client Error: Not Found for url: https://en.wikipedia.org/api/rest_v1/page/summary/Katie_Ashley, retrying (1/5)...\n",
      "Max retries reached for C_J_Box. Skipping.\n",
      "Max retries reached for JC_Reed. Skipping.\n",
      "Request exception for H_M_Ward: 404 Client Error: Not Found for url: https://en.wikipedia.org/api/rest_v1/page/summary/H_M_Ward, retrying (1/5)...\n",
      "Max retries reached for Ron_Carr. Skipping.\n",
      "Request exception for J_A_Redmerski: 404 Client Error: Not Found for url: https://en.wikipedia.org/api/rest_v1/page/summary/J_A_Redmerski, retrying (3/5)...\n",
      "Request exception for J_Kenner: 404 Client Error: Not Found for url: https://en.wikipedia.org/api/rest_v1/page/summary/J_Kenner, retrying (1/5)...\n",
      "Request exception for Sandi_Lynn: 404 Client Error: Not Found for url: https://en.wikipedia.org/api/rest_v1/page/summary/Sandi_Lynn, retrying (5/5)...\n",
      "Max retries reached for JA_Redmerski. Skipping.\n",
      "Request exception for Sandi_Lynn: 404 Client Error: Not Found for url: https://en.wikipedia.org/api/rest_v1/page/summary/Sandi_Lynn, retrying (3/5)...\n",
      "Request exception for Kelly_Elliott: 404 Client Error: Not Found for url: https://en.wikipedia.org/api/rest_v1/page/summary/Kelly_Elliott, retrying (3/5)...\n",
      "Request exception for Laurann_Dohner: 404 Client Error: Not Found for url: https://en.wikipedia.org/api/rest_v1/page/summary/Laurann_Dohner, retrying (1/5)...\n",
      "Max retries reached for Jana_DeLeon. Skipping.\n",
      "Request exception for Samantha_Young: 404 Client Error: Not Found for url: https://en.wikipedia.org/api/rest_v1/page/summary/Samantha_Young, retrying (1/5)...\n",
      "Request exception for HM_Ward: 404 Client Error: Not Found for url: https://en.wikipedia.org/api/rest_v1/page/summary/HM_Ward, retrying (1/5)...\n",
      "Request exception for Raine_Miller: 404 Client Error: Not Found for url: https://en.wikipedia.org/api/rest_v1/page/summary/Raine_Miller, retrying (1/5)...\n",
      "Request exception for M_Leighton: 404 Client Error: Not Found for url: https://en.wikipedia.org/api/rest_v1/page/summary/M_Leighton, retrying (1/5)...\n",
      "Request exception for M_L_Stedman: 404 Client Error: Not Found for url: https://en.wikipedia.org/api/rest_v1/page/summary/M_L_Stedman, retrying (1/5)...\n",
      "Request exception for Maya_Cross: 404 Client Error: Not Found for url: https://en.wikipedia.org/api/rest_v1/page/summary/Maya_Cross, retrying (4/5)...\n",
      "Request exception for Michael_Brandman: 404 Client Error: Not Found for url: https://en.wikipedia.org/api/rest_v1/page/summary/Michael_Brandman, retrying (4/5)...\n",
      "Request exception for Melody_Anne: 404 Client Error: Not Found for url: https://en.wikipedia.org/api/rest_v1/page/summary/Melody_Anne, retrying (4/5)...\n",
      "Request exception for Jen_McLaughlin: 404 Client Error: Not Found for url: https://en.wikipedia.org/api/rest_v1/page/summary/Jen_McLaughlin, retrying (4/5)...\n",
      "Request exception for Rachel_Van_Dyken: 404 Client Error: Not Found for url: https://en.wikipedia.org/api/rest_v1/page/summary/Rachel_Van_Dyken, retrying (2/5)...\n",
      "Request exception for Darcie_Chan: 404 Client Error: Not Found for url: https://en.wikipedia.org/api/rest_v1/page/summary/Darcie_Chan, retrying (4/5)...\n",
      "Request exception for JD_Robb: 404 Client Error: Not Found for url: https://en.wikipedia.org/api/rest_v1/page/summary/JD_Robb, retrying (4/5)...\n",
      "Request exception for Kelly_Elliott: 404 Client Error: Not Found for url: https://en.wikipedia.org/api/rest_v1/page/summary/Kelly_Elliott, retrying (3/5)...\n",
      "Request exception for Katie_Ashley: 404 Client Error: Not Found for url: https://en.wikipedia.org/api/rest_v1/page/summary/Katie_Ashley, retrying (2/5)...\n",
      "Max retries reached for Sandi_Lynn. Skipping.\n",
      "Request exception for H_M_Ward: 404 Client Error: Not Found for url: https://en.wikipedia.org/api/rest_v1/page/summary/H_M_Ward, retrying (2/5)...\n",
      "Request exception for J_A_Redmerski: 404 Client Error: Not Found for url: https://en.wikipedia.org/api/rest_v1/page/summary/J_A_Redmerski, retrying (4/5)...\n",
      "Request exception for J_Kenner: 404 Client Error: Not Found for url: https://en.wikipedia.org/api/rest_v1/page/summary/J_Kenner, retrying (2/5)...\n",
      "Request exception for Sandi_Lynn: 404 Client Error: Not Found for url: https://en.wikipedia.org/api/rest_v1/page/summary/Sandi_Lynn, retrying (4/5)...\n",
      "Request exception for Kelly_Elliott: 404 Client Error: Not Found for url: https://en.wikipedia.org/api/rest_v1/page/summary/Kelly_Elliott, retrying (4/5)...\n",
      "Request exception for Laurann_Dohner: 404 Client Error: Not Found for url: https://en.wikipedia.org/api/rest_v1/page/summary/Laurann_Dohner, retrying (2/5)...\n",
      "Request exception for Samantha_Young: 404 Client Error: Not Found for url: https://en.wikipedia.org/api/rest_v1/page/summary/Samantha_Young, retrying (2/5)...\n",
      "Request exception for HM_Ward: 404 Client Error: Not Found for url: https://en.wikipedia.org/api/rest_v1/page/summary/HM_Ward, retrying (2/5)...\n"
     ]
    },
    {
     "data": {
      "text/plain": [
       "0"
      ]
     },
     "execution_count": 138,
     "metadata": {},
     "output_type": "execute_result"
    }
   ],
   "source": [
    "# Check this worked\n",
    "\n",
    "books_2013['Author'].str.contains(' and | with ', na=False).sum()"
   ]
  },
  {
   "cell_type": "code",
   "execution_count": 144,
   "id": "c8407988-4a06-4ffe-8499-8f4ef6673e1f",
   "metadata": {},
   "outputs": [
    {
     "data": {
      "text/plain": [
       "array(['Gillian Flynn', 'John Grisham', 'E L James', 'Nicholas Sparks',\n",
       "       'David Baldacci', 'James Patterson', 'Tom Clancy',\n",
       "       'Janet Evanovich', 'Yann Martel', 'Michael Connelly',\n",
       "       'J K Rowling', 'Jessica Sorensen', 'Vince Flynn', 'Wm Paul Young',\n",
       "       'Stephen King', 'Ayana Mathis', 'Mitch Albom', 'Abbi Glines',\n",
       "       'Colleen Hoover', 'Stephenie Meyer', 'Stieg Larsson', 'Sara Gruen',\n",
       "       'Sylvia Day', 'Addison Moore', 'Maya Banks', 'Linda Howard',\n",
       "       'W E B Griffin', 'Robert Jordan', 'Stuart Woods',\n",
       "       'George Saunders', 'Jayne Ann Krentz', 'James Rollins',\n",
       "       'Brad Meltzer', 'Stephen Hunter', 'Glenn Beck', 'Robert Crais',\n",
       "       'Kim Harrison', 'Gail McHugh', 'Danielle Steel', 'Debbie Macomber',\n",
       "       'Matthew Quick', 'Sister Souljah', 'Lorena McCourtney',\n",
       "       'Isaac Marion', 'Lisa Gardner', 'A L Jackson', 'Lisa Kleypas',\n",
       "       'Lucy Kevin', 'Lisa Renee Jones', 'Maeve Binchy',\n",
       "       'Jonathan Kellerman', 'Elisabeth Naughton', 'Christina Lauren',\n",
       "       'Courtney Cole', 'Jackie Collins', 'Taylor Stevens', 'Herman Koch',\n",
       "       'Marie Force', 'Shanora Williams', 'John Irving', 'J D Robb',\n",
       "       'Jodi Picoult', 'Lynsay Sands', 'Sandra Brown', 'Lara Adrian',\n",
       "       'Susan Mallery', 'S C Stephens', 'J Lynn', 'Patricia Briggs',\n",
       "       'Clive Cussler', 'Karen Kingsbury', 'Joel C Rosenberg',\n",
       "       'Bella Andre', 'William Landay', 'C J Box', 'Terry Brooks',\n",
       "       'Harlan Coben', 'Kyra Davis', 'Jasinda Wilder', 'JC Reed',\n",
       "       'Jean Hanff Korelitz', 'Eloisa James', 'J R Ward', 'Ron Carr',\n",
       "       'Jeaniene Frost', 'Elizabeth Strout', 'Sherryl Woods',\n",
       "       'JA Redmerski', 'Jacqueline Winspear', 'Stephanie Laurens',\n",
       "       'Jamie McGuire', 'Kate Atkinson', 'Jana DeLeon', 'Kristen Ashley',\n",
       "       'Rachel Van Dyken', 'Katie Ashley', 'Mary Higgins Clark',\n",
       "       'Lisa Scottoline', 'H M Ward', 'Susanna Kearsley', 'Nora Roberts',\n",
       "       'Iris Johansen', 'Katy Evans', 'Michael Robotham', 'J Kenner',\n",
       "       'Kristin Hannah', 'Sophie Kinsella', 'Amanda Quick',\n",
       "       'Edward Rutherfurd', 'Kathy Reichs', 'Barbara Freethy',\n",
       "       'Jeffrey Archer', 'Laurann Dohner', 'Joe Hill', 'Lori Foster',\n",
       "       'Susan Wiggs', 'Charlaine Harris', 'John Sandford',\n",
       "       'Richard Paul Evans', 'Judith Merkle Riley', 'John le Carre',\n",
       "       'Orson Scott Card', 'Samantha Young', 'Ann Patchett',\n",
       "       'George RR Martin', 'Dan Brown', 'Raine Miller', 'HM Ward',\n",
       "       'Lisa Jackson', 'M Leighton', 'Khaled Hosseini', 'M L Stedman',\n",
       "       'Hugh Howey', 'Max Brooks', 'Emma Chase', 'Meg Waite Clayton',\n",
       "       'Cassia Leo', 'Molly McAdams', 'Dean Koontz', 'Georgia Cates',\n",
       "       'Christine Feehan', 'Amy Harmon', 'Lee Child', 'Lauren Weisberger',\n",
       "       'Jeffery Deaver', 'Mary Kay Andrews', 'Carl Hiaasen',\n",
       "       'Jeannette Walls', 'Steve Berry', 'Dorothea Benton Frank',\n",
       "       'Neil Gaiman', 'Tami Hoag', 'Elin Hilderbrand', 'Fern Michaels',\n",
       "       'Jodi Ellen Malpas', 'Laurell K Hamilton', 'Karin Slaughter',\n",
       "       'Kresley Cole', 'Jo Nesbo', 'Brad Thor', 'Catherine Coulter',\n",
       "       'Sue Grafton', 'Tanya Anne Cros, Danelle Harmon, Lauren Royal',\n",
       "       'J S Scott', 'Robert Galbraith', 'Daniel Silva', 'Shayla Black',\n",
       "       'J A Jance', 'James Lee Burke', 'Philippa Gregory',\n",
       "       'A S A Harrison', 'SL Jennings', 'Ryan Winfield', 'Ilona Andrews',\n",
       "       'Gena Showalter', 'C  J Box', 'Liane Moriarty', 'Julie Garwood',\n",
       "       'WEB Griffin', 'Irene Zatko', 'Faye Kellerman', 'Lene Kaaberbol',\n",
       "       'Marisha Pessl', 'Samantha Shannon', 'Maya Cross',\n",
       "       'Terry Goodkind', 'Frederick Forsyth', 'Louise Penny',\n",
       "       'Jayne Castle', 'Linda Lael Miller', 'Diane Mott Davidson',\n",
       "       'Sherrilyn Kenyon', 'Melody Anne', 'Michael Brandman',\n",
       "       'Darcie Chan', 'Jen McLaughlin', 'Nelson DeMille',\n",
       "       'Richard Castle', 'Thomas Pynchon', 'Jhumpa Lahiri',\n",
       "       'Christina Baker Kline', 'Jill Shalvis', 'JD Robb',\n",
       "       'Elizabeth Gilbert', 'Tara Sue Me', 'Dave Eggers', 'Vi Keeland',\n",
       "       'Tijan', 'Kathleen Brooks', 'Elizabeth George', 'Scott Turow',\n",
       "       'Helen Fielding', 'Anne Rice', 'Eleanor Catton', 'Donna Tartt',\n",
       "       'Wally Lamb', 'George R R Martin', 'Julia Quinn', 'Diana Palmer',\n",
       "       'Nalini Singh', 'Kristan Higgins', 'J A Redmerski', 'Amy Tan',\n",
       "       'Fannie Flagg', 'Alexander McCall Smith', 'Patricia Cornwell',\n",
       "       'Douglas Preston', 'Martin Cruz Smith', 'Caroline Leavitt',\n",
       "       'Nicole Edwards', 'Sandi Lynn', 'Adriana Trigiani',\n",
       "       'Sarah MacLean', 'Kay Hooper', 'Kelly Elliott', 'Sylvain Reynard'],\n",
       "      dtype=object)"
      ]
     },
     "execution_count": 144,
     "metadata": {},
     "output_type": "execute_result"
    }
   ],
   "source": [
    "books_2013['Author'].unique()"
   ]
  },
  {
   "cell_type": "code",
   "execution_count": 23,
   "id": "3bfd90bb-be61-4229-afaa-467f6ee05634",
   "metadata": {},
   "outputs": [
    {
     "name": "stdout",
     "output_type": "stream",
     "text": [
      "Fetching data for date: 2023-01-01...\n",
      "Processing next date...\n",
      "Fetching data for date: 2023-01-08...\n",
      "Processing next date...\n",
      "Fetching data for date: 2023-01-15...\n",
      "Processing next date...\n",
      "Fetching data for date: 2023-01-22...\n",
      "Error fetching data for date 2023-01-22: 429 Client Error: Too Many Requests for url: https://api.nytimes.com/svc/books/v3/lists/2023-01-22/combined-print-and-e-book-fiction.json?api-key=p7BsAznhZDBKJaSN6kVuGQUvaT6rDvu3\n",
      "Waiting for 16 seconds before retrying...\n",
      "Processing next date...\n",
      "Fetching data for date: 2023-01-29...\n",
      "Processing next date...\n",
      "Fetching data for date: 2023-02-05...\n",
      "Processing next date...\n",
      "Fetching data for date: 2023-02-12...\n",
      "Processing next date...\n",
      "Fetching data for date: 2023-02-19...\n",
      "Processing next date...\n",
      "Fetching data for date: 2023-02-26...\n",
      "Error fetching data for date 2023-02-26: 429 Client Error: Too Many Requests for url: https://api.nytimes.com/svc/books/v3/lists/2023-02-26/combined-print-and-e-book-fiction.json?api-key=p7BsAznhZDBKJaSN6kVuGQUvaT6rDvu3\n",
      "Waiting for 16 seconds before retrying...\n",
      "Error fetching data for date 2023-02-26: 429 Client Error: Too Many Requests for url: https://api.nytimes.com/svc/books/v3/lists/2023-02-26/combined-print-and-e-book-fiction.json?api-key=p7BsAznhZDBKJaSN6kVuGQUvaT6rDvu3\n",
      "Waiting for 26 seconds before retrying...\n",
      "Processing next date...\n",
      "Fetching data for date: 2023-03-05...\n",
      "Processing next date...\n",
      "Fetching data for date: 2023-03-12...\n",
      "Processing next date...\n",
      "Fetching data for date: 2023-03-19...\n",
      "Processing next date...\n",
      "Fetching data for date: 2023-03-26...\n",
      "Processing next date...\n",
      "Fetching data for date: 2023-04-02...\n",
      "Error fetching data for date 2023-04-02: 429 Client Error: Too Many Requests for url: https://api.nytimes.com/svc/books/v3/lists/2023-04-02/combined-print-and-e-book-fiction.json?api-key=p7BsAznhZDBKJaSN6kVuGQUvaT6rDvu3\n",
      "Waiting for 16 seconds before retrying...\n",
      "Error fetching data for date 2023-04-02: 429 Client Error: Too Many Requests for url: https://api.nytimes.com/svc/books/v3/lists/2023-04-02/combined-print-and-e-book-fiction.json?api-key=p7BsAznhZDBKJaSN6kVuGQUvaT6rDvu3\n",
      "Waiting for 26 seconds before retrying...\n",
      "Processing next date...\n",
      "Fetching data for date: 2023-04-09...\n",
      "Processing next date...\n",
      "Fetching data for date: 2023-04-16...\n",
      "Processing next date...\n",
      "Fetching data for date: 2023-04-23...\n",
      "Processing next date...\n",
      "Fetching data for date: 2023-04-30...\n",
      "Processing next date...\n",
      "Fetching data for date: 2023-05-07...\n",
      "Error fetching data for date 2023-05-07: 429 Client Error: Too Many Requests for url: https://api.nytimes.com/svc/books/v3/lists/2023-05-07/combined-print-and-e-book-fiction.json?api-key=p7BsAznhZDBKJaSN6kVuGQUvaT6rDvu3\n",
      "Waiting for 16 seconds before retrying...\n",
      "Error fetching data for date 2023-05-07: 429 Client Error: Too Many Requests for url: https://api.nytimes.com/svc/books/v3/lists/2023-05-07/combined-print-and-e-book-fiction.json?api-key=p7BsAznhZDBKJaSN6kVuGQUvaT6rDvu3\n",
      "Waiting for 26 seconds before retrying...\n",
      "Processing next date...\n",
      "Fetching data for date: 2023-05-14...\n",
      "Processing next date...\n",
      "Fetching data for date: 2023-05-21...\n",
      "Processing next date...\n",
      "Fetching data for date: 2023-05-28...\n",
      "Processing next date...\n",
      "Fetching data for date: 2023-06-04...\n",
      "Processing next date...\n",
      "Fetching data for date: 2023-06-11...\n",
      "Error fetching data for date 2023-06-11: 429 Client Error: Too Many Requests for url: https://api.nytimes.com/svc/books/v3/lists/2023-06-11/combined-print-and-e-book-fiction.json?api-key=p7BsAznhZDBKJaSN6kVuGQUvaT6rDvu3\n",
      "Waiting for 16 seconds before retrying...\n",
      "Error fetching data for date 2023-06-11: 429 Client Error: Too Many Requests for url: https://api.nytimes.com/svc/books/v3/lists/2023-06-11/combined-print-and-e-book-fiction.json?api-key=p7BsAznhZDBKJaSN6kVuGQUvaT6rDvu3\n",
      "Waiting for 26 seconds before retrying...\n",
      "Processing next date...\n",
      "Fetching data for date: 2023-06-18...\n",
      "Processing next date...\n",
      "Fetching data for date: 2023-06-25...\n",
      "Processing next date...\n",
      "Fetching data for date: 2023-07-02...\n",
      "Processing next date...\n",
      "Fetching data for date: 2023-07-09...\n",
      "Processing next date...\n",
      "Fetching data for date: 2023-07-16...\n",
      "Error fetching data for date 2023-07-16: 429 Client Error: Too Many Requests for url: https://api.nytimes.com/svc/books/v3/lists/2023-07-16/combined-print-and-e-book-fiction.json?api-key=p7BsAznhZDBKJaSN6kVuGQUvaT6rDvu3\n",
      "Waiting for 16 seconds before retrying...\n",
      "Error fetching data for date 2023-07-16: 429 Client Error: Too Many Requests for url: https://api.nytimes.com/svc/books/v3/lists/2023-07-16/combined-print-and-e-book-fiction.json?api-key=p7BsAznhZDBKJaSN6kVuGQUvaT6rDvu3\n",
      "Waiting for 26 seconds before retrying...\n",
      "Processing next date...\n",
      "Fetching data for date: 2023-07-23...\n",
      "Processing next date...\n",
      "Fetching data for date: 2023-07-30...\n",
      "Processing next date...\n",
      "Fetching data for date: 2023-08-06...\n",
      "Processing next date...\n",
      "Fetching data for date: 2023-08-13...\n",
      "Processing next date...\n",
      "Fetching data for date: 2023-08-20...\n",
      "Error fetching data for date 2023-08-20: 429 Client Error: Too Many Requests for url: https://api.nytimes.com/svc/books/v3/lists/2023-08-20/combined-print-and-e-book-fiction.json?api-key=p7BsAznhZDBKJaSN6kVuGQUvaT6rDvu3\n",
      "Waiting for 16 seconds before retrying...\n",
      "Processing next date...\n",
      "Fetching data for date: 2023-08-27...\n",
      "Processing next date...\n",
      "Fetching data for date: 2023-09-03...\n",
      "Processing next date...\n",
      "Fetching data for date: 2023-09-10...\n",
      "Processing next date...\n",
      "Fetching data for date: 2023-09-17...\n",
      "Processing next date...\n",
      "Fetching data for date: 2023-09-24...\n",
      "Error fetching data for date 2023-09-24: 429 Client Error: Too Many Requests for url: https://api.nytimes.com/svc/books/v3/lists/2023-09-24/combined-print-and-e-book-fiction.json?api-key=p7BsAznhZDBKJaSN6kVuGQUvaT6rDvu3\n",
      "Waiting for 16 seconds before retrying...\n",
      "Error fetching data for date 2023-09-24: 429 Client Error: Too Many Requests for url: https://api.nytimes.com/svc/books/v3/lists/2023-09-24/combined-print-and-e-book-fiction.json?api-key=p7BsAznhZDBKJaSN6kVuGQUvaT6rDvu3\n",
      "Waiting for 26 seconds before retrying...\n",
      "Processing next date...\n",
      "Fetching data for date: 2023-10-01...\n",
      "Processing next date...\n",
      "Fetching data for date: 2023-10-08...\n",
      "Processing next date...\n",
      "Fetching data for date: 2023-10-15...\n",
      "Processing next date...\n",
      "Fetching data for date: 2023-10-22...\n",
      "Processing next date...\n",
      "Fetching data for date: 2023-10-29...\n",
      "Error fetching data for date 2023-10-29: 429 Client Error: Too Many Requests for url: https://api.nytimes.com/svc/books/v3/lists/2023-10-29/combined-print-and-e-book-fiction.json?api-key=p7BsAznhZDBKJaSN6kVuGQUvaT6rDvu3\n",
      "Waiting for 16 seconds before retrying...\n",
      "Error fetching data for date 2023-10-29: 429 Client Error: Too Many Requests for url: https://api.nytimes.com/svc/books/v3/lists/2023-10-29/combined-print-and-e-book-fiction.json?api-key=p7BsAznhZDBKJaSN6kVuGQUvaT6rDvu3\n",
      "Waiting for 26 seconds before retrying...\n",
      "Processing next date...\n",
      "Fetching data for date: 2023-11-05...\n",
      "Processing next date...\n",
      "Fetching data for date: 2023-11-12...\n",
      "Processing next date...\n",
      "Fetching data for date: 2023-11-19...\n",
      "Processing next date...\n",
      "Fetching data for date: 2023-11-26...\n",
      "Processing next date...\n",
      "Fetching data for date: 2023-12-03...\n",
      "Error fetching data for date 2023-12-03: 429 Client Error: Too Many Requests for url: https://api.nytimes.com/svc/books/v3/lists/2023-12-03/combined-print-and-e-book-fiction.json?api-key=p7BsAznhZDBKJaSN6kVuGQUvaT6rDvu3\n",
      "Waiting for 16 seconds before retrying...\n",
      "Error fetching data for date 2023-12-03: 429 Client Error: Too Many Requests for url: https://api.nytimes.com/svc/books/v3/lists/2023-12-03/combined-print-and-e-book-fiction.json?api-key=p7BsAznhZDBKJaSN6kVuGQUvaT6rDvu3\n",
      "Waiting for 26 seconds before retrying...\n",
      "Processing next date...\n",
      "Fetching data for date: 2023-12-10...\n",
      "Processing next date...\n",
      "Fetching data for date: 2023-12-17...\n",
      "Processing next date...\n",
      "Fetching data for date: 2023-12-24...\n",
      "Processing next date...\n",
      "Fetching data for date: 2023-12-31...\n",
      "Processing next date...\n",
      "   Rank                 Title          Author   List Date\n",
      "0     1     IT STARTS WITH US  Colleen Hoover  2023-01-01\n",
      "1     2       IT ENDS WITH US  Colleen Hoover  2023-01-01\n",
      "2     3  LESSONS IN CHEMISTRY   Bonnie Garmus  2023-01-01\n",
      "3     4                VERITY  Colleen Hoover  2023-01-01\n",
      "4     5  THE BOYS FROM BILOXI    John Grisham  2023-01-01\n",
      "Total books fetched: 795\n"
     ]
    }
   ],
   "source": [
    "# Input 2023 into function\n",
    "\n",
    "\n",
    "start_date = datetime(2023, 1, 1)\n",
    "end_date = datetime(2023, 12, 31)\n",
    "\n",
    "# Call the function\n",
    "books_df = collect_book_data(start_date, end_date)"
   ]
  },
  {
   "cell_type": "code",
   "execution_count": 25,
   "id": "bae9b8f4-f13b-4c2c-91f7-a1fb91db59e4",
   "metadata": {},
   "outputs": [],
   "source": [
    "# Save in seperate variable\n",
    "\n",
    "books_2023 = books_df"
   ]
  },
  {
   "cell_type": "code",
   "execution_count": 71,
   "id": "8424a929-69d8-4079-9a7b-5782bdb56264",
   "metadata": {},
   "outputs": [],
   "source": [
    "# BACKUP!!!\n",
    "\n",
    "books_2023_backup = books_2023"
   ]
  },
  {
   "cell_type": "code",
   "execution_count": 210,
   "id": "016e5666-b3de-4afc-86d8-2ea0a300beb1",
   "metadata": {},
   "outputs": [],
   "source": [
    "books_2023_backup_2 = books_2023_backup"
   ]
  },
  {
   "cell_type": "code",
   "execution_count": 29,
   "id": "276051e2-f998-45aa-903a-bf3adc0f5a84",
   "metadata": {},
   "outputs": [],
   "source": [
    "# Clean Author data\n",
    "\n",
    "books_2023['Author'] = books_2023['Author'].apply(extract_author)"
   ]
  },
  {
   "cell_type": "code",
   "execution_count": 31,
   "id": "abdc3cca-bcfc-4924-a906-aabf107dab6d",
   "metadata": {},
   "outputs": [
    {
     "data": {
      "text/plain": [
       "0"
      ]
     },
     "execution_count": 31,
     "metadata": {},
     "output_type": "execute_result"
    }
   ],
   "source": [
    "# Check this worked\n",
    "\n",
    "books_2023['Author'].str.contains(' and | with ', na=False).sum()"
   ]
  },
  {
   "cell_type": "code",
   "execution_count": 109,
   "id": "34d02597-15b9-497a-9f8c-b0aa395ba783",
   "metadata": {},
   "outputs": [
    {
     "name": "stdout",
     "output_type": "stream",
     "text": [
      "      Rank                 Title             Author   List Date   Age  \\\n",
      "0        1             GONE GIRL      Gillian Flynn  2013-01-01  42.0   \n",
      "1        2         THE RACKETEER       John Grisham  2013-01-01  58.0   \n",
      "2        3  FIFTY SHADES OF GREY          E L James  2013-01-01  -6.0   \n",
      "3        4            SAFE HAVEN    Nicholas Sparks  2013-01-01  48.0   \n",
      "4        5         THE FORGOTTEN     David Baldacci  2013-01-01  53.0   \n",
      "...    ...                   ...                ...         ...   ...   \n",
      "1055    16            DARK WITCH       Nora Roberts  2013-12-31   NaN   \n",
      "1056    17                  DUST  Patricia Cornwell  2013-12-31  57.0   \n",
      "1057    18  FIFTY SHADES OF GREY          E L James  2013-12-31  -6.0   \n",
      "1058    19  A DANCE WITH DRAGONS  George R R Martin  2013-12-31  65.0   \n",
      "1059    20         THE RACKETEER       John Grisham  2013-12-31  58.0   \n",
      "\n",
      "     Nationality  \n",
      "0       American  \n",
      "1       American  \n",
      "2           None  \n",
      "3       American  \n",
      "4           None  \n",
      "...          ...  \n",
      "1055     romance  \n",
      "1056       crime  \n",
      "1057        None  \n",
      "1058    American  \n",
      "1059    American  \n",
      "\n",
      "[1060 rows x 6 columns]\n"
     ]
    }
   ],
   "source": [
    "# Function to get birth year and nationality from Wikipedia\n",
    "\n",
    "def get_author_details(author_name):\n",
    "    try:\n",
    "        author_name = author_name.replace(' ', '_')\n",
    "        url = f'https://en.wikipedia.org/api/rest_v1/page/summary/{author_name}'\n",
    "        response = requests.get(url)\n",
    "        \n",
    "        if response.status_code == 200:\n",
    "            data = response.json()\n",
    "            description = data.get('description', '')\n",
    "            extract = data.get('extract', '')\n",
    "            \n",
    "            birth_year = None\n",
    "            nationality = None\n",
    "\n",
    "            match = re.search(r'\\b(born\\s(\\d{4}))\\b', description)\n",
    "            if match:\n",
    "                birth_year = int(match.group(2))\n",
    "            \n",
    "            match = re.search(r'\\b(\\d{4})\\b', extract)\n",
    "            if birth_year is None and match:\n",
    "                birth_year = int(match.group(1))\n",
    "\n",
    "            nationality_match = re.search(r'(\\w+)\\swriter|novelist|author|screenwriter', description, re.IGNORECASE)\n",
    "            if nationality_match:\n",
    "                nationality = nationality_match.group(1)\n",
    "\n",
    "            return birth_year, nationality\n",
    "        elif response.status_code == 429:\n",
    "            time.sleep(5)  # Wait before retrying\n",
    "            return get_author_details(author_name)\n",
    "    except Exception as e:\n",
    "        print(f\"Error fetching data for {author_name}: {e}\")\n",
    "    return None, None\n",
    "\n",
    "unique_authors = books_2013['Author'].unique()\n",
    "\n",
    "author_details_dict = {}\n",
    "\n",
    "with ThreadPoolExecutor(max_workers=10) as executor:\n",
    "    future_to_author = {executor.submit(get_author_details, author): author for author in unique_authors}\n",
    "    for i, future in enumerate(as_completed(future_to_author), 1):\n",
    "        author = future_to_author[future]\n",
    "        try:\n",
    "            birth_year, nationality = future.result()\n",
    "            if birth_year is not None or nationality is not None:\n",
    "                author_details_dict[author] = {'birth_year': birth_year, 'nationality': nationality}\n",
    "        except Exception as e:\n",
    "            print(f\"Error processing {author}: {e}\")\n",
    "\n",
    "books_2013['Age'] = books_2013['Author'].map(lambda author: 2013 - author_details_dict[author]['birth_year'] if author in author_details_dict and author_details_dict[author]['birth_year'] is not None else np.nan)\n",
    "books_2013['Nationality'] = books_2013['Author'].map(lambda author: author_details_dict[author]['nationality'] if author in author_details_dict else np.nan)\n",
    "\n",
    "print(books_2013)"
   ]
  },
  {
   "cell_type": "code",
   "execution_count": 152,
   "id": "fb283c46-f9a6-46af-8207-a9558623d96a",
   "metadata": {},
   "outputs": [
    {
     "name": "stdout",
     "output_type": "stream",
     "text": [
      "Request exception for J_Kenner: 404 Client Error: Not Found for url: https://en.wikipedia.org/api/rest_v1/page/summary/J_Kenner, retrying (4/5)...\n"
     ]
    },
    {
     "data": {
      "text/plain": [
       "Nationality\n",
       "American       657\n",
       "British         82\n",
       "Australian      23\n",
       "English         19\n",
       "Canadian        15\n",
       "Irish            7\n",
       "Dutch            2\n",
       "Norwegian        2\n",
       "Danish           2\n",
       "Swedish          1\n",
       "New Zealand      1\n",
       "Zimbabwean       1\n",
       "Name: count, dtype: int64"
      ]
     },
     "execution_count": 152,
     "metadata": {},
     "output_type": "execute_result"
    }
   ],
   "source": [
    "books_2013['Nationality'].value_counts()"
   ]
  },
  {
   "cell_type": "code",
   "execution_count": 155,
   "id": "31814cc0-5036-4ddb-b3f8-299c47c1bd49",
   "metadata": {},
   "outputs": [
    {
     "name": "stdout",
     "output_type": "stream",
     "text": [
      "Request exception for Ana_Reyes: 404 Client Error: Not Found for url: https://en.wikipedia.org/api/rest_v1/page/summary/Ana_Reyes, retrying (1/5)...Request exception for Lucy_Score: 404 Client Error: Not Found for url: https://en.wikipedia.org/api/rest_v1/page/summary/Lucy_Score, retrying (1/5)...\n",
      "\n",
      "Request exception for Jenny_Jackson: 404 Client Error: Not Found for url: https://en.wikipedia.org/api/rest_v1/page/summary/Jenny_Jackson, retrying (1/5)...\n",
      "Request exception for Katee_Robert: 404 Client Error: Not Found for url: https://en.wikipedia.org/api/rest_v1/page/summary/Katee_Robert, retrying (1/5)...\n",
      "Request exception for Ab_Jimenez: 404 Client Error: Not Found for url: https://en.wikipedia.org/api/rest_v1/page/summary/Ab_Jimenez, retrying (1/5)...\n",
      "Request exception for T.J._Klune: 404 Client Error: Not Found for url: https://en.wikipedia.org/api/rest_v1/page/summary/T.J._Klune, retrying (1/5)...\n",
      "Request exception for Mo_Xiang_Tong_Xiu: 404 Client Error: Not Found for url: https://en.wikipedia.org/api/rest_v1/page/summary/Mo_Xiang_Tong_Xiu, retrying (1/5)...\n",
      "Request exception for Don_Bentley: 404 Client Error: Not Found for url: https://en.wikipedia.org/api/rest_v1/page/summary/Don_Bentley, retrying (1/5)...\n",
      "Request exception for T.J._Newman: 404 Client Error: Not Found for url: https://en.wikipedia.org/api/rest_v1/page/summary/T.J._Newman, retrying (1/5)...\n",
      "Request exception for Hannah_Nicole_Maehrer: 404 Client Error: Not Found for url: https://en.wikipedia.org/api/rest_v1/page/summary/Hannah_Nicole_Maehrer, retrying (1/5)...\n",
      "Request exception for Lucy_Score: 404 Client Error: Not Found for url: https://en.wikipedia.org/api/rest_v1/page/summary/Lucy_Score, retrying (2/5)...\n",
      "Request exception for Ana_Reyes: 404 Client Error: Not Found for url: https://en.wikipedia.org/api/rest_v1/page/summary/Ana_Reyes, retrying (2/5)...\n",
      "Request exception for Jenny_Jackson: 404 Client Error: Not Found for url: https://en.wikipedia.org/api/rest_v1/page/summary/Jenny_Jackson, retrying (2/5)...\n",
      "Request exception for Katee_Robert: 404 Client Error: Not Found for url: https://en.wikipedia.org/api/rest_v1/page/summary/Katee_Robert, retrying (2/5)...\n",
      "Request exception for Ab_Jimenez: 404 Client Error: Not Found for url: https://en.wikipedia.org/api/rest_v1/page/summary/Ab_Jimenez, retrying (2/5)...\n",
      "Request exception for T.J._Klune: 404 Client Error: Not Found for url: https://en.wikipedia.org/api/rest_v1/page/summary/T.J._Klune, retrying (2/5)...\n",
      "Request exception for Mo_Xiang_Tong_Xiu: 404 Client Error: Not Found for url: https://en.wikipedia.org/api/rest_v1/page/summary/Mo_Xiang_Tong_Xiu, retrying (2/5)...\n",
      "Request exception for T.J._Newman: 404 Client Error: Not Found for url: https://en.wikipedia.org/api/rest_v1/page/summary/T.J._Newman, retrying (2/5)...\n",
      "Request exception for Don_Bentley: 404 Client Error: Not Found for url: https://en.wikipedia.org/api/rest_v1/page/summary/Don_Bentley, retrying (2/5)...\n",
      "Request exception for Hannah_Nicole_Maehrer: 404 Client Error: Not Found for url: https://en.wikipedia.org/api/rest_v1/page/summary/Hannah_Nicole_Maehrer, retrying (2/5)...\n",
      "Request exception for Jenny_Jackson: 404 Client Error: Not Found for url: https://en.wikipedia.org/api/rest_v1/page/summary/Jenny_Jackson, retrying (3/5)...\n",
      "Request exception for Lucy_Score: 404 Client Error: Not Found for url: https://en.wikipedia.org/api/rest_v1/page/summary/Lucy_Score, retrying (3/5)...\n",
      "Request exception for Ana_Reyes: 404 Client Error: Not Found for url: https://en.wikipedia.org/api/rest_v1/page/summary/Ana_Reyes, retrying (3/5)...\n",
      "Request exception for Katee_Robert: 404 Client Error: Not Found for url: https://en.wikipedia.org/api/rest_v1/page/summary/Katee_Robert, retrying (3/5)...\n",
      "Request exception for Ab_Jimenez: 404 Client Error: Not Found for url: https://en.wikipedia.org/api/rest_v1/page/summary/Ab_Jimenez, retrying (3/5)...\n",
      "Request exception for Mo_Xiang_Tong_Xiu: 404 Client Error: Not Found for url: https://en.wikipedia.org/api/rest_v1/page/summary/Mo_Xiang_Tong_Xiu, retrying (3/5)...\n",
      "Request exception for T.J._Klune: 404 Client Error: Not Found for url: https://en.wikipedia.org/api/rest_v1/page/summary/T.J._Klune, retrying (3/5)...\n",
      "Request exception for T.J._Newman: 404 Client Error: Not Found for url: https://en.wikipedia.org/api/rest_v1/page/summary/T.J._Newman, retrying (3/5)...\n",
      "Request exception for Don_Bentley: 404 Client Error: Not Found for url: https://en.wikipedia.org/api/rest_v1/page/summary/Don_Bentley, retrying (3/5)...\n",
      "Request exception for Hannah_Nicole_Maehrer: 404 Client Error: Not Found for url: https://en.wikipedia.org/api/rest_v1/page/summary/Hannah_Nicole_Maehrer, retrying (3/5)...\n",
      "Request exception for Jenny_Jackson: 404 Client Error: Not Found for url: https://en.wikipedia.org/api/rest_v1/page/summary/Jenny_Jackson, retrying (4/5)...\n",
      "Request exception for Lucy_Score: 404 Client Error: Not Found for url: https://en.wikipedia.org/api/rest_v1/page/summary/Lucy_Score, retrying (4/5)...\n",
      "Request exception for Ana_Reyes: 404 Client Error: Not Found for url: https://en.wikipedia.org/api/rest_v1/page/summary/Ana_Reyes, retrying (4/5)...\n",
      "Request exception for Katee_Robert: 404 Client Error: Not Found for url: https://en.wikipedia.org/api/rest_v1/page/summary/Katee_Robert, retrying (4/5)...\n",
      "Request exception for Ab_Jimenez: 404 Client Error: Not Found for url: https://en.wikipedia.org/api/rest_v1/page/summary/Ab_Jimenez, retrying (4/5)...\n",
      "Request exception for Mo_Xiang_Tong_Xiu: 404 Client Error: Not Found for url: https://en.wikipedia.org/api/rest_v1/page/summary/Mo_Xiang_Tong_Xiu, retrying (4/5)...\n",
      "Request exception for T.J._Klune: 404 Client Error: Not Found for url: https://en.wikipedia.org/api/rest_v1/page/summary/T.J._Klune, retrying (4/5)...\n",
      "Request exception for Don_Bentley: 404 Client Error: Not Found for url: https://en.wikipedia.org/api/rest_v1/page/summary/Don_Bentley, retrying (4/5)...\n",
      "Request exception for T.J._Newman: 404 Client Error: Not Found for url: https://en.wikipedia.org/api/rest_v1/page/summary/T.J._Newman, retrying (4/5)...\n",
      "Request exception for Hannah_Nicole_Maehrer: 404 Client Error: Not Found for url: https://en.wikipedia.org/api/rest_v1/page/summary/Hannah_Nicole_Maehrer, retrying (4/5)...\n",
      "Request exception for Jenny_Jackson: 404 Client Error: Not Found for url: https://en.wikipedia.org/api/rest_v1/page/summary/Jenny_Jackson, retrying (5/5)...\n",
      "Request exception for Lucy_Score: 404 Client Error: Not Found for url: https://en.wikipedia.org/api/rest_v1/page/summary/Lucy_Score, retrying (5/5)...\n",
      "Request exception for Ana_Reyes: 404 Client Error: Not Found for url: https://en.wikipedia.org/api/rest_v1/page/summary/Ana_Reyes, retrying (5/5)...\n",
      "Request exception for Katee_Robert: 404 Client Error: Not Found for url: https://en.wikipedia.org/api/rest_v1/page/summary/Katee_Robert, retrying (5/5)...\n",
      "Request exception for Ab_Jimenez: 404 Client Error: Not Found for url: https://en.wikipedia.org/api/rest_v1/page/summary/Ab_Jimenez, retrying (5/5)...\n",
      "Request exception for Mo_Xiang_Tong_Xiu: 404 Client Error: Not Found for url: https://en.wikipedia.org/api/rest_v1/page/summary/Mo_Xiang_Tong_Xiu, retrying (5/5)...\n",
      "Request exception for T.J._Klune: 404 Client Error: Not Found for url: https://en.wikipedia.org/api/rest_v1/page/summary/T.J._Klune, retrying (5/5)...\n",
      "Request exception for Don_Bentley: 404 Client Error: Not Found for url: https://en.wikipedia.org/api/rest_v1/page/summary/Don_Bentley, retrying (5/5)...Request exception for T.J._Newman: 404 Client Error: Not Found for url: https://en.wikipedia.org/api/rest_v1/page/summary/T.J._Newman, retrying (5/5)...\n",
      "\n",
      "Request exception for Hannah_Nicole_Maehrer: 404 Client Error: Not Found for url: https://en.wikipedia.org/api/rest_v1/page/summary/Hannah_Nicole_Maehrer, retrying (5/5)...\n",
      "Max retries reached for Jenny_Jackson. Skipping.\n",
      "Max retries reached for Lucy_Score. Skipping.\n",
      "Max retries reached for Ana_Reyes. Skipping.\n",
      "Max retries reached for Katee_Robert. Skipping.\n",
      "Max retries reached for Ab_Jimenez. Skipping.\n",
      "Request exception for Breanne_Randall: 404 Client Error: Not Found for url: https://en.wikipedia.org/api/rest_v1/page/summary/Breanne_Randall, retrying (1/5)...\n",
      "Max retries reached for Mo_Xiang_Tong_Xiu. Skipping.\n",
      "Max retries reached for T.J._Klune. Skipping.\n",
      "Request exception for Kerri_Maniscalco: 404 Client Error: Not Found for url: https://en.wikipedia.org/api/rest_v1/page/summary/Kerri_Maniscalco, retrying (1/5)...\n",
      "Max retries reached for T.J._Newman. Skipping.\n",
      "Max retries reached for Don_Bentley. Skipping.\n",
      "Request exception for Rachel_Gillig: 404 Client Error: Not Found for url: https://en.wikipedia.org/api/rest_v1/page/summary/Rachel_Gillig, retrying (1/5)...\n",
      "Request exception for Lauren_Asher: 404 Client Error: Not Found for url: https://en.wikipedia.org/api/rest_v1/page/summary/Lauren_Asher, retrying (1/5)...\n",
      "Max retries reached for Hannah_Nicole_Maehrer. Skipping.\n",
      "Request exception for Breanne_Randall: 404 Client Error: Not Found for url: https://en.wikipedia.org/api/rest_v1/page/summary/Breanne_Randall, retrying (2/5)...\n",
      "Request exception for Kerri_Maniscalco: 404 Client Error: Not Found for url: https://en.wikipedia.org/api/rest_v1/page/summary/Kerri_Maniscalco, retrying (2/5)...\n",
      "Request exception for Rachel_Gillig: 404 Client Error: Not Found for url: https://en.wikipedia.org/api/rest_v1/page/summary/Rachel_Gillig, retrying (2/5)...\n",
      "Request exception for Lauren_Asher: 404 Client Error: Not Found for url: https://en.wikipedia.org/api/rest_v1/page/summary/Lauren_Asher, retrying (2/5)...\n",
      "Request exception for Breanne_Randall: 404 Client Error: Not Found for url: https://en.wikipedia.org/api/rest_v1/page/summary/Breanne_Randall, retrying (3/5)...\n",
      "Request exception for Kerri_Maniscalco: 404 Client Error: Not Found for url: https://en.wikipedia.org/api/rest_v1/page/summary/Kerri_Maniscalco, retrying (3/5)...\n",
      "Request exception for Rachel_Gillig: 404 Client Error: Not Found for url: https://en.wikipedia.org/api/rest_v1/page/summary/Rachel_Gillig, retrying (3/5)...\n",
      "Request exception for Lauren_Asher: 404 Client Error: Not Found for url: https://en.wikipedia.org/api/rest_v1/page/summary/Lauren_Asher, retrying (3/5)...\n",
      "Request exception for Breanne_Randall: 404 Client Error: Not Found for url: https://en.wikipedia.org/api/rest_v1/page/summary/Breanne_Randall, retrying (4/5)...\n",
      "Request exception for Kerri_Maniscalco: 404 Client Error: Not Found for url: https://en.wikipedia.org/api/rest_v1/page/summary/Kerri_Maniscalco, retrying (4/5)...\n",
      "Request exception for Rachel_Gillig: 404 Client Error: Not Found for url: https://en.wikipedia.org/api/rest_v1/page/summary/Rachel_Gillig, retrying (4/5)...\n",
      "Request exception for Lauren_Asher: 404 Client Error: Not Found for url: https://en.wikipedia.org/api/rest_v1/page/summary/Lauren_Asher, retrying (4/5)...\n",
      "Request exception for Breanne_Randall: 404 Client Error: Not Found for url: https://en.wikipedia.org/api/rest_v1/page/summary/Breanne_Randall, retrying (5/5)...\n",
      "Request exception for Kerri_Maniscalco: 404 Client Error: Not Found for url: https://en.wikipedia.org/api/rest_v1/page/summary/Kerri_Maniscalco, retrying (5/5)...\n",
      "Request exception for Rachel_Gillig: 404 Client Error: Not Found for url: https://en.wikipedia.org/api/rest_v1/page/summary/Rachel_Gillig, retrying (5/5)...\n",
      "Request exception for Lauren_Asher: 404 Client Error: Not Found for url: https://en.wikipedia.org/api/rest_v1/page/summary/Lauren_Asher, retrying (5/5)...\n",
      "Max retries reached for Breanne_Randall. Skipping.\n",
      "Max retries reached for Kerri_Maniscalco. Skipping.\n",
      "Max retries reached for Rachel_Gillig. Skipping.\n",
      "Max retries reached for Lauren_Asher. Skipping.\n",
      "     Rank                              Title               Author   List Date  \\\n",
      "0       1                  IT STARTS WITH US       Colleen Hoover  2023-01-01   \n",
      "1       2                    IT ENDS WITH US       Colleen Hoover  2023-01-01   \n",
      "2       3               LESSONS IN CHEMISTRY        Bonnie Garmus  2023-01-01   \n",
      "3       4                             VERITY       Colleen Hoover  2023-01-01   \n",
      "4       5               THE BOYS FROM BILOXI         John Grisham  2023-01-01   \n",
      "..    ...                                ...                  ...         ...   \n",
      "790    11                      THE HOUSEMAID      Freida McFadden  2023-12-31   \n",
      "791    12                           TOM LAKE         Ann Patchett  2023-12-31   \n",
      "792    13                ALEX CROSS MUST DIE      James Patterson  2023-12-31   \n",
      "793    14  THE SEVEN HUSBANDS OF EVELYN HUGO  Taylor Jenkins Reid  2023-12-31   \n",
      "794    15              THE COVENANT OF WATER     Abraham Verghese  2023-12-31   \n",
      "\n",
      "      Age Nationality  \n",
      "0    34.0    American  \n",
      "1    34.0    American  \n",
      "2    56.0    American  \n",
      "3    34.0    American  \n",
      "4    58.0    American  \n",
      "..    ...         ...  \n",
      "790   NaN    American  \n",
      "791  50.0    American  \n",
      "792  66.0    American  \n",
      "793  30.0    American  \n",
      "794  58.0    American  \n",
      "\n",
      "[795 rows x 6 columns]\n"
     ]
    }
   ],
   "source": [
    "# Function to get birth year and nationality from Wikipedia\n",
    "\n",
    "unique_authors = books_2023['Author'].unique()\n",
    "\n",
    "author_details_dict = {}\n",
    "\n",
    "with ThreadPoolExecutor(max_workers=10) as executor:\n",
    "    future_to_author = {executor.submit(get_author_details, author): author for author in unique_authors}\n",
    "    for i, future in enumerate(as_completed(future_to_author), 1):\n",
    "        author = future_to_author[future]\n",
    "        try:\n",
    "            birth_year, nationality = future.result()\n",
    "            if birth_year is not None or nationality is not None:\n",
    "                author_details_dict[author] = {'birth_year': birth_year, 'nationality': nationality}\n",
    "        except Exception as e:\n",
    "            print(f\"Error processing {author}: {e}\")\n",
    "\n",
    "books_2023['Age'] = books_2023['Author'].map(lambda author: 2013 - author_details_dict[author]['birth_year'] if author in author_details_dict and author_details_dict[author]['birth_year'] is not None else np.nan)\n",
    "books_2023['Nationality'] = books_2023['Author'].map(lambda author: author_details_dict[author]['nationality'] if author in author_details_dict else np.nan)\n",
    "\n",
    "print(books_2023)"
   ]
  },
  {
   "cell_type": "code",
   "execution_count": 156,
   "id": "e0a96b07-8ec1-4ecf-82af-2acf369b293c",
   "metadata": {},
   "outputs": [
    {
     "name": "stdout",
     "output_type": "stream",
     "text": [
      "     Rank                              Title               Author   List Date  \\\n",
      "0       1                  IT STARTS WITH US       Colleen Hoover  2023-01-01   \n",
      "1       2                    IT ENDS WITH US       Colleen Hoover  2023-01-01   \n",
      "2       3               LESSONS IN CHEMISTRY        Bonnie Garmus  2023-01-01   \n",
      "3       4                             VERITY       Colleen Hoover  2023-01-01   \n",
      "4       5               THE BOYS FROM BILOXI         John Grisham  2023-01-01   \n",
      "..    ...                                ...                  ...         ...   \n",
      "790    11                      THE HOUSEMAID      Freida McFadden  2023-12-31   \n",
      "791    12                           TOM LAKE         Ann Patchett  2023-12-31   \n",
      "792    13                ALEX CROSS MUST DIE      James Patterson  2023-12-31   \n",
      "793    14  THE SEVEN HUSBANDS OF EVELYN HUGO  Taylor Jenkins Reid  2023-12-31   \n",
      "794    15              THE COVENANT OF WATER     Abraham Verghese  2023-12-31   \n",
      "\n",
      "      Age Nationality  \n",
      "0    34.0    American  \n",
      "1    34.0    American  \n",
      "2    56.0    American  \n",
      "3    34.0    American  \n",
      "4    58.0    American  \n",
      "..    ...         ...  \n",
      "790   NaN    American  \n",
      "791  50.0    American  \n",
      "792  66.0    American  \n",
      "793  30.0    American  \n",
      "794  58.0    American  \n",
      "\n",
      "[795 rows x 6 columns]\n"
     ]
    }
   ],
   "source": [
    "print(books_2023)"
   ]
  },
  {
   "cell_type": "code",
   "execution_count": 158,
   "id": "35426204-b297-4494-91a3-da78cea0c2d3",
   "metadata": {},
   "outputs": [
    {
     "data": {
      "text/plain": [
       "Nationality\n",
       "American       632\n",
       "British         17\n",
       "Canadian         9\n",
       "English          7\n",
       "Italian          5\n",
       "New Zealand      2\n",
       "Swedish          1\n",
       "Irish            1\n",
       "Australian       1\n",
       "Norwegian        1\n",
       "Name: count, dtype: int64"
      ]
     },
     "execution_count": 158,
     "metadata": {},
     "output_type": "execute_result"
    }
   ],
   "source": [
    "books_2023['Nationality'].value_counts()"
   ]
  },
  {
   "cell_type": "code",
   "execution_count": 160,
   "id": "23baf651-c388-40a7-9cf4-9161181cabd7",
   "metadata": {},
   "outputs": [
    {
     "data": {
      "text/plain": [
       "count    617.000000\n",
       "mean      52.931929\n",
       "std       88.945492\n",
       "min      -11.000000\n",
       "25%       10.000000\n",
       "50%       48.000000\n",
       "75%       59.000000\n",
       "max      530.000000\n",
       "Name: Age, dtype: float64"
      ]
     },
     "execution_count": 160,
     "metadata": {},
     "output_type": "execute_result"
    }
   ],
   "source": [
    "# Test the Age hypothesis by comparing the ages across the different cohorts\n",
    "\n",
    "books_2013['Age'].describe()"
   ]
  },
  {
   "cell_type": "code",
   "execution_count": 174,
   "id": "6462537e-0008-410e-b3a8-896a86b2412b",
   "metadata": {},
   "outputs": [],
   "source": [
    "# Need to exclude obviously incorrect vales\n",
    "\n",
    "books_2013['Age'] = books_2013['Age'].apply(lambda x: np.nan if x < 20 or x > 100 else x)"
   ]
  },
  {
   "cell_type": "code",
   "execution_count": 186,
   "id": "0de9bae7-4769-4efc-9f64-3e65dd1d8feb",
   "metadata": {},
   "outputs": [
    {
     "data": {
      "text/plain": [
       "count    62.000000\n",
       "mean     50.677419\n",
       "std      13.813481\n",
       "min      20.000000\n",
       "25%      42.250000\n",
       "50%      51.000000\n",
       "75%      60.750000\n",
       "max      76.000000\n",
       "Name: Age, dtype: float64"
      ]
     },
     "execution_count": 186,
     "metadata": {},
     "output_type": "execute_result"
    }
   ],
   "source": [
    "# Need to make sure that only unique authors are considered\n",
    "\n",
    "unique_authors_2013 = books_2013.drop_duplicates(subset='Author')\n",
    "\n",
    "unique_authors_2013['Age'].describe()"
   ]
  },
  {
   "cell_type": "code",
   "execution_count": 178,
   "id": "b6c6e85e-941b-48c4-8ec9-0dc260b8476d",
   "metadata": {},
   "outputs": [
    {
     "data": {
      "text/plain": [
       "count    558.000000\n",
       "mean      46.120072\n",
       "std       51.627810\n",
       "min      -11.000000\n",
       "25%       34.000000\n",
       "50%       34.000000\n",
       "75%       56.000000\n",
       "max      530.000000\n",
       "Name: Age, dtype: float64"
      ]
     },
     "execution_count": 178,
     "metadata": {},
     "output_type": "execute_result"
    }
   ],
   "source": [
    "books_2023['Age'].describe()"
   ]
  },
  {
   "cell_type": "code",
   "execution_count": 180,
   "id": "fef73f51-4880-4240-a2c3-1f0debca259d",
   "metadata": {},
   "outputs": [],
   "source": [
    "books_2023['Age'] = books_2023['Age'].apply(lambda x: np.nan if x < 20 or x > 100 else x)"
   ]
  },
  {
   "cell_type": "code",
   "execution_count": 188,
   "id": "b369b1ed-6c51-45e7-8b78-5b1facaa9a14",
   "metadata": {},
   "outputs": [
    {
     "data": {
      "text/plain": [
       "count    46.000000\n",
       "mean     48.869565\n",
       "std      13.237336\n",
       "min      21.000000\n",
       "25%      38.000000\n",
       "50%      51.000000\n",
       "75%      57.750000\n",
       "max      89.000000\n",
       "Name: Age, dtype: float64"
      ]
     },
     "execution_count": 188,
     "metadata": {},
     "output_type": "execute_result"
    }
   ],
   "source": [
    "unique_authors_2023 = books_2023.drop_duplicates(subset='Author')\n",
    "\n",
    "unique_authors_2023['Age'].describe()"
   ]
  },
  {
   "cell_type": "code",
   "execution_count": 216,
   "id": "6565b2c3-8aa1-44a9-ab04-4808d022c1fc",
   "metadata": {},
   "outputs": [
    {
     "data": {
      "text/plain": [
       "Nationality\n",
       "American        49.529412\n",
       "Non-American    56.000000\n",
       "Name: Age, dtype: float64"
      ]
     },
     "execution_count": 216,
     "metadata": {},
     "output_type": "execute_result"
    }
   ],
   "source": [
    "# Now compare the age of American vs non-American authors\n",
    "\n",
    "books_2013['Nationality'] = books_2013_backup_2['Nationality'].apply(lambda x: 'American' if x == 'American' else ('Non-American' if pd.notna(x) else np.nan))\n",
    "\n",
    "unique_authors_2013 = books_2013.drop_duplicates(subset='Author')\n",
    "\n",
    "mean_age_by_nationality_2013 = unique_authors_2013.groupby('Nationality')['Age'].mean()\n",
    "\n",
    "mean_age_by_nationality_2013"
   ]
  },
  {
   "cell_type": "code",
   "execution_count": 228,
   "id": "2f8f13c5-de71-4036-b1ea-ccc2cecd0d6e",
   "metadata": {},
   "outputs": [
    {
     "data": {
      "text/plain": [
       "Nationality\n",
       "American        48.147059\n",
       "Non-American    50.916667\n",
       "Name: Age, dtype: float64"
      ]
     },
     "execution_count": 228,
     "metadata": {},
     "output_type": "execute_result"
    }
   ],
   "source": [
    "books_2023['Nationality'] = books_2023_backup_2['Nationality'].apply(lambda x: 'American' if x == 'American' else ('Non-American' if pd.notna(x) else np.nan))\n",
    "unique_authors_2023 = books_2023.drop_duplicates(subset='Author')\n",
    "\n",
    "mean_age_by_nationality_2023 = unique_authors_2023.groupby('Nationality')['Age'].mean()\n",
    "\n",
    "mean_age_by_nationality_2023"
   ]
  },
  {
   "cell_type": "code",
   "execution_count": 204,
   "id": "9ba502b3-df39-4301-a9c7-6aba1c6db9f9",
   "metadata": {},
   "outputs": [
    {
     "data": {
      "text/plain": [
       "Nationality\n",
       "American        657\n",
       "Non-American    403\n",
       "Name: count, dtype: int64"
      ]
     },
     "execution_count": 204,
     "metadata": {},
     "output_type": "execute_result"
    }
   ],
   "source": [
    "# Now test the Diversity hypothesis by comparing the Nationalities across the different cohorts\n",
    "\n",
    "books_2013['Nationality'].value_counts()"
   ]
  },
  {
   "cell_type": "code",
   "execution_count": 208,
   "id": "3e218e0f-61a7-4dae-8eca-e96d1ad885a3",
   "metadata": {},
   "outputs": [
    {
     "data": {
      "text/plain": [
       "Nationality\n",
       "American        632\n",
       "Non-American    163\n",
       "Name: count, dtype: int64"
      ]
     },
     "execution_count": 208,
     "metadata": {},
     "output_type": "execute_result"
    }
   ],
   "source": [
    "books_2023['Nationality'].value_counts()"
   ]
  },
  {
   "cell_type": "code",
   "execution_count": null,
   "id": "dd677352-f029-464a-95ba-2a8d7abc7724",
   "metadata": {},
   "outputs": [],
   "source": [
    "# Now to make some basic histograms & pie charts"
   ]
  },
  {
   "cell_type": "code",
   "execution_count": 234,
   "id": "195bba37-9469-4c50-8f50-fc93511cda35",
   "metadata": {},
   "outputs": [],
   "source": [
    "import matplotlib.pyplot as plt"
   ]
  },
  {
   "cell_type": "code",
   "execution_count": 277,
   "id": "78c7169e-73ce-4054-a743-d05c83e44d19",
   "metadata": {},
   "outputs": [
    {
     "data": {
      "image/png": "[encoded data removed]",
      "text/plain": [
       "<Figure size 800x600 with 1 Axes>"
      ]
     },
     "metadata": {},
     "output_type": "display_data"
    }
   ],
   "source": [
    "books_2013['Age'].hist(bins=10, edgecolor='black', figsize=(8,6))\n",
    "\n",
    "plt.title('Age Distribution (2013)')\n",
    "plt.xlabel('Age')\n",
    "plt.ylabel('Frequency')\n",
    "\n",
    "plt.axvline(50.6, color='red', linestyle='dashed', linewidth=2, label=f'Mean Age: {50.6:.2f}')\n",
    "\n",
    "plt.show()"
   ]
  },
  {
   "cell_type": "code",
   "execution_count": 275,
   "id": "39458b04-4068-496b-b61e-c134e66391fa",
   "metadata": {},
   "outputs": [
    {
     "data": {
      "image/png": "[encoded data removed]",
      "text/plain": [
       "<Figure size 800x600 with 1 Axes>"
      ]
     },
     "metadata": {},
     "output_type": "display_data"
    }
   ],
   "source": [
    "books_2023['Age'].hist(bins=10, edgecolor='black', figsize=(8,6))\n",
    "\n",
    "plt.title('Age Distribution (2023)')\n",
    "plt.xlabel('Age')\n",
    "plt.ylabel('Frequency')\n",
    "\n",
    "plt.axvline(48.8, color='red', linestyle='dashed', linewidth=2, label=f'Mean Age: {48.8:.2f}')\n",
    "\n",
    "plt.show()"
   ]
  },
  {
   "cell_type": "code",
   "execution_count": 267,
   "id": "08429c4b-1959-4a72-bb89-6a5be2091b14",
   "metadata": {},
   "outputs": [
    {
     "data": {
      "image/png": "[encoded data removed]",
      "text/plain": [
       "<Figure size 800x800 with 1 Axes>"
      ]
     },
     "metadata": {},
     "output_type": "display_data"
    }
   ],
   "source": [
    "Nationalities_2013 = {'Nationality': ['American', 'British', 'Australian', 'English', 'Canadian', 'Irish',\n",
    "                        'Dutch', 'Norwegian', 'Danish', 'Swedish', 'New Zealand', 'Zimbabwean'],\n",
    "        'Count': [657, 82, 23, 19, 15, 7, 2, 2, 2, 1, 1, 1]}\n",
    "\n",
    "Nationalities_2013 = pd.DataFrame(data)\n",
    "\n",
    "# Create a pie chart\n",
    "plt.figure(figsize=(8, 8))\n",
    "plt.pie(Nationalities_2013['Count'], counterclock=False)\n",
    "\n",
    "plt.axis('equal')\n",
    "\n",
    "plt.title('Nationalities 2013')\n",
    "\n",
    "plt.show()"
   ]
  },
  {
   "cell_type": "code",
   "execution_count": 273,
   "id": "4231d1c2-fbfa-4eab-934c-40a7b401ecc4",
   "metadata": {},
   "outputs": [
    {
     "data": {
      "image/png": "[encoded data removed]",
      "text/plain": [
       "<Figure size 800x800 with 1 Axes>"
      ]
     },
     "metadata": {},
     "output_type": "display_data"
    }
   ],
   "source": [
    "Nationalities_2023 = {'Nationality': ['American', 'British', 'Canadian', 'English', 'Italian', 'New Zealand', \n",
    "                        'Swedish', 'Irish', 'Australian', 'Norwegian'],\n",
    "        'Count': [632, 17, 9, 7, 5, 2, 1, 1, 1, 1]}\n",
    "\n",
    "Nationalities_2013 = pd.DataFrame(data)\n",
    "\n",
    "plt.figure(figsize=(8, 8))\n",
    "plt.pie(Nationalities_2023['Count'], counterclock=False)\n",
    "\n",
    "plt.axis('equal')\n",
    "\n",
    "plt.title('Nationalities 2023')\n",
    "\n",
    "plt.show()"
   ]
  },
  {
   "cell_type": "code",
   "execution_count": null,
   "id": "1aeea471-bcb3-4ae2-bcf8-c3f6c685011a",
   "metadata": {},
   "outputs": [],
   "source": [
    "# 2013: Americans = 80.9%; 2023 Americans = 93.5%"
   ]
  }
 ],
 "metadata": {
  "kernelspec": {
   "display_name": "Python 3 (ipykernel)",
   "language": "python",
   "name": "python3"
  },
  "language_info": {
   "codemirror_mode": {
    "name": "ipython",
    "version": 3
   },
   "file_extension": ".py",
   "mimetype": "text/x-python",
   "name": "python",
   "nbconvert_exporter": "python",
   "pygments_lexer": "ipython3",
   "version": "3.12.2"
  }
 },
 "nbformat": 4,
 "nbformat_minor": 5
}
